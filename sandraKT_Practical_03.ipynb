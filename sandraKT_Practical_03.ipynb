{
 "cells": [
  {
   "cell_type": "markdown",
   "metadata": {
    "id": "12_fdbLn8p4A"
   },
   "source": [
    "\n",
    "\n",
    "    \n",
    "#    <center> <b> <span style=\"color:orange;\" >  `Python for Scientific Computing and Software Engineering ` </span> </b></center>\n",
    "\n",
    "\n",
    "## <center> <b> <span style=\"color:orange;\"> An Initiation to Programming using Python (Init2Py) </span> </b></center>\n",
    "\n",
    "### <center> <b> <span style=\"color:blue;\"> Travaux Pratiques: Objets itérables ou conteneurs</span> </b></center>\n"
   ]
  },
  {
   "cell_type": "markdown",
   "metadata": {
    "id": "E_ZB23H68p4D"
   },
   "source": [
    "###  <center> <b> <span style=\"color:blue;\"> Listes </span> </b></center>"
   ]
  },
  {
   "cell_type": "markdown",
   "metadata": {},
   "source": [
    "# Practical_03 on \"Programming  with Python\""
   ]
  },
  {
   "cell_type": "markdown",
   "metadata": {
    "id": "TAzYC_Ev8p4F"
   },
   "source": [
    "\n",
    "\n",
    "            Student : KAM TSEMO SANDRA MARION\n",
    "\n",
    "            OPTION : MASTER REGULAR, AIMS SENEGAL\n",
    "            \n",
    "            Teacher : Yae Ulrich"
   ]
  },
  {
   "cell_type": "markdown",
   "metadata": {
    "id": "H0cIcjGk8p4G"
   },
   "source": [
    "#### **Exercice 00:** \n",
    ">**Déclarer une liste vide.**"
   ]
  },
  {
   "cell_type": "code",
   "execution_count": 1,
   "metadata": {
    "id": "45QEMilz8p4I"
   },
   "outputs": [],
   "source": [
    "listVide=[]"
   ]
  },
  {
   "cell_type": "markdown",
   "metadata": {
    "id": "zZ0XnwpB8p4J"
   },
   "source": [
    "#### **Exercice 01:** \n",
    ">**Déclarer une liste de plus de 5 éléments.**"
   ]
  },
  {
   "cell_type": "code",
   "execution_count": 3,
   "metadata": {
    "id": "HV32hLfA8p4L"
   },
   "outputs": [
    {
     "name": "stdout",
     "output_type": "stream",
     "text": [
      "['Jan', 1, 'Fev', 2, 'March', 3.5, 'chien', 9.12]\n"
     ]
    }
   ],
   "source": [
    "liste=['Jan',1,'Fev',2,'March',3.5,'chien',9.12]\n",
    "print(liste)"
   ]
  },
  {
   "cell_type": "markdown",
   "metadata": {
    "id": "tJpy6kNz8p4M"
   },
   "source": [
    "#### **Exercice 02:** \n",
    ">**Trouver la longueur de votre liste.**"
   ]
  },
  {
   "cell_type": "code",
   "execution_count": 4,
   "metadata": {
    "id": "627A_RNw8p4O"
   },
   "outputs": [
    {
     "name": "stdout",
     "output_type": "stream",
     "text": [
      "8\n"
     ]
    }
   ],
   "source": [
    "print(len(liste))"
   ]
  },
  {
   "cell_type": "markdown",
   "metadata": {
    "id": "unFrwT5t8p4Q"
   },
   "source": [
    "#### **Exercice 03:** \n",
    ">**Obtenez le premier élément, l'élément central et le dernier élément de la liste.**\n",
    "\n"
   ]
  },
  {
   "cell_type": "code",
   "execution_count": 5,
   "metadata": {},
   "outputs": [],
   "source": [
    "import math"
   ]
  },
  {
   "cell_type": "code",
   "execution_count": 7,
   "metadata": {
    "id": "MUuc1gaQ8p4R"
   },
   "outputs": [
    {
     "name": "stdout",
     "output_type": "stream",
     "text": [
      "Jan  ---est le premier element March  ---est la valeur centrale--- chien  ---est le dernier element\n"
     ]
    }
   ],
   "source": [
    "print(liste[0],\" ---est le premier element\",liste[int(len(liste)/2)], \" ---est la valeur centrale---\", liste[-2], \" ---est le dernier element\")"
   ]
  },
  {
   "cell_type": "markdown",
   "metadata": {
    "id": "4Rqp8q0L8p4R"
   },
   "source": [
    "#### **Exercice 04:** \n",
    ">**Déclarez une liste appelée mixed_data_types, mettez votre (nom, âge, taille, état civil, adresse).**"
   ]
  },
  {
   "cell_type": "code",
   "execution_count": 9,
   "metadata": {
    "id": "EoZPW2UH8p4S"
   },
   "outputs": [
    {
     "name": "stdout",
     "output_type": "stream",
     "text": [
      "['nom : Kam Tsemo', 'age : 25 ', 'taille : 1.90', 'etat civil : celibataire', 'adresse : 3545']\n"
     ]
    }
   ],
   "source": [
    "mixed_data_types=list(['nom : Kam Tsemo','age : 25 ' ,'taille : 1.90' ,'etat civil : celibataire','adresse : 3545' ])\n",
    "print(mixed_data_types)"
   ]
  },
  {
   "cell_type": "markdown",
   "metadata": {
    "id": "OPYSNV1l8p4T"
   },
   "source": [
    "#### **Exercice 05:** \n",
    "\n",
    "    1. Déclarez une variable liste appelée it_companies et attribuez les valeurs initiales Facebook, Google, Microsoft, Apple, IBM, Oracle et Amazon.\n",
    "\n",
    "    2. Imprimez la liste à l'aide de print()\n",
    "\n",
    "    3. Imprimez le nombre d'entreprises dans la liste\n",
    "\n",
    "    4. Imprimez la première, la moyenne et la dernière entreprise\n",
    "\n",
    "    5. Imprimez la liste après avoir modifié l'une des entreprises.\n",
    "\n",
    "    6. Ajout d'une entreprise informatique à it_companies\n",
    "\n",
    "    7. Insérer une entreprise informatique au milieu de la liste des entreprises\n",
    "\n",
    "    8. Changez le nom d'une des it_companies en majuscule (sauf IBM !)\n",
    "\n",
    "    9. Joignez les it_companies avec une chaîne '# ; '.\n",
    "\n",
    "    10. Vérifier si une certaine entreprise existe dans la liste it_companies.\n",
    "\n",
    "    11. Trier la liste en utilisant la méthode sort()\n",
    "\n",
    "    12. Inversez la liste par ordre décroissant à l'aide de la méthode reverse().\n",
    "\n",
    "    13. Supprimez les 3 premières entreprises de la liste.\n",
    "\n",
    "    14. Supprimez les 3 dernières entreprises de la liste.\n",
    "\n",
    "    15. Supprimez la ou les entreprises informatiques du milieu de la liste.\n",
    "\n",
    "    16. Supprimez la première entreprise informatique de la liste\n",
    "\n",
    "    17. Supprimez la ou les entreprises informatiques du milieu de la liste.\n",
    "\n",
    "    18. Retirer la dernière entreprise informatique de la liste\n",
    "\n",
    "    19. Supprimez toutes les entreprises informatiques de la liste\n",
    "\n",
    "    20. Détruire la liste des entreprises informatiques"
   ]
  },
  {
   "cell_type": "code",
   "execution_count": 113,
   "metadata": {
    "id": "4M_XODba8p4V",
    "scrolled": true
   },
   "outputs": [
    {
     "name": "stdout",
     "output_type": "stream",
     "text": [
      "['Facebook', 'Google', 'Microsoft', 'Apple', 'IBM', 'Oracle', 'Amazon']\n",
      "7\n",
      "Facebook  ---est le premier element IBM  ---est la moyenne--- Oracle  ---est le dernier element\n",
      "None\n",
      "['Facebook', 'Google', 'Microsoft', 'IBM', 'Oracle', 'Amazon']\n",
      "None\n",
      "['Facebook', 'Google', 'Microsoft', 'IBM', 'Oracle', 'Amazon', 'Twitter']\n",
      "None\n",
      "['Facebook', 'Google', 'Microsoft', 'IBM', 'Telegram', 'Oracle', 'Amazon', 'Twitter']\n",
      "['FACEBOOK', 'Google', 'Microsoft', 'IBM', 'Telegram', 'Oracle', 'Amazon', 'Twitter']\n",
      "FACEBOOK # Google # Microsoft # IBM # Telegram # Oracle # Amazon # Twitter\n",
      "True\n",
      "False\n",
      "['Amazon', 'FACEBOOK', 'Google', 'IBM', 'Microsoft', 'Oracle', 'Telegram', 'Twitter']\n"
     ]
    }
   ],
   "source": [
    "it_companies=list(['Facebook','Google','Microsoft','Apple','IBM','Oracle','Amazon'])       # 1.\n",
    "print(it_companies)                                            # 2.\n",
    "print(len(it_companies))                                      # 3.\n",
    "print(it_companies[0],\" ---est le premier element\",it_companies[int(len(liste)/2)], \" ---est la moyenne---\", it_companies[-2], \" ---est le dernier element\") # 4.\n",
    "print(it_companies.remove('Apple'))\n",
    "print(it_companies)                                           # 5. \n",
    "print(it_companies.append('Twitter'))                         # 6.\n",
    "print(it_companies)\n",
    "print(it_companies.insert(int(len(liste)/2),'Telegram'))      # 7.\n",
    "print(it_companies)\n",
    "it_companies[it_companies.index(\"Facebook\")]=it_companies[it_companies.index(\"Facebook\")].upper() # 8.\n",
    "print(it_companies)\n",
    "print(\" # \".join(it_companies))             # 9.\n",
    "print('Google' in it_companies)             # 10.\n",
    "print('Whatsapp' in it_companies)\n",
    "it_companies.sort()                         # 11. Trier la liste en utilisant la méthode sort()\n",
    "print(it_companies)"
   ]
  },
  {
   "cell_type": "code",
   "execution_count": 94,
   "metadata": {},
   "outputs": [
    {
     "name": "stdout",
     "output_type": "stream",
     "text": [
      "['Twitter', 'Telegram', 'Oracle', 'Microsoft', 'IBM', 'Google', 'FACEBOOK', 'Amazon']\n"
     ]
    }
   ],
   "source": [
    "it_companies.reverse()        # 12. Inversez la liste par ordre décroissant à l'aide de la méthode reverse()\n",
    "print(it_companies)"
   ]
  },
  {
   "cell_type": "code",
   "execution_count": 110,
   "metadata": {},
   "outputs": [
    {
     "name": "stdout",
     "output_type": "stream",
     "text": [
      "['IBM', 'Microsoft', 'Oracle', 'Telegram', 'Twitter']\n"
     ]
    }
   ],
   "source": [
    "del it_companies[0:3]         # 13. Supprimez les 3 premières entreprises de la liste\n",
    "print(it_companies)\n"
   ]
  },
  {
   "cell_type": "code",
   "execution_count": 112,
   "metadata": {},
   "outputs": [
    {
     "name": "stdout",
     "output_type": "stream",
     "text": [
      "['Amazon', 'FACEBOOK', 'Google', 'IBM', 'Microsoft']\n"
     ]
    }
   ],
   "source": [
    "del it_companies[5:8]        # 14. Supprimez les 3 dernières entreprises de la liste\n",
    "print(it_companies)"
   ]
  },
  {
   "cell_type": "code",
   "execution_count": 92,
   "metadata": {},
   "outputs": [
    {
     "name": "stdout",
     "output_type": "stream",
     "text": [
      "['Amazon', 'FACEBOOK', 'Google', 'IBM', 'Oracle', 'Telegram', 'Twitter']\n"
     ]
    }
   ],
   "source": [
    "del it_companies[int(len(liste)/2)] # 15. Supprimez la ou les entreprises informatiques du milieu de la liste.\n",
    "print(it_companies)"
   ]
  },
  {
   "cell_type": "code",
   "execution_count": 102,
   "metadata": {},
   "outputs": [
    {
     "name": "stdout",
     "output_type": "stream",
     "text": [
      "['FACEBOOK', 'Google', 'IBM', 'Microsoft', 'Oracle', 'Telegram', 'Twitter']\n"
     ]
    }
   ],
   "source": [
    "del it_companies[0:1]        # 16. Supprimez la première entreprise informatique de la liste\n",
    "print(it_companies)"
   ]
  },
  {
   "cell_type": "code",
   "execution_count": 96,
   "metadata": {},
   "outputs": [
    {
     "name": "stdout",
     "output_type": "stream",
     "text": [
      "['Amazon', 'FACEBOOK', 'Google', 'IBM', 'Oracle', 'Telegram', 'Twitter']\n"
     ]
    }
   ],
   "source": [
    "del it_companies[4:5]        # 17. Supprimez la ou les entreprises informatiques du milieu de la liste.\n",
    "print(it_companies)"
   ]
  },
  {
   "cell_type": "code",
   "execution_count": 106,
   "metadata": {},
   "outputs": [
    {
     "name": "stdout",
     "output_type": "stream",
     "text": [
      "['Amazon', 'FACEBOOK', 'Google', 'IBM', 'Microsoft', 'Oracle', 'Telegram']\n"
     ]
    }
   ],
   "source": [
    "del it_companies[-1:]        # 18. Retirer la dernière entreprise informatique de la liste.\n",
    "print(it_companies)"
   ]
  },
  {
   "cell_type": "code",
   "execution_count": 108,
   "metadata": {},
   "outputs": [
    {
     "name": "stdout",
     "output_type": "stream",
     "text": [
      "[]\n"
     ]
    }
   ],
   "source": [
    "del it_companies[0:8]        # 19. Supprimez toutes les entreprises informatiques de la liste.\n",
    "print(it_companies)"
   ]
  },
  {
   "cell_type": "code",
   "execution_count": 114,
   "metadata": {},
   "outputs": [
    {
     "name": "stdout",
     "output_type": "stream",
     "text": [
      "None\n"
     ]
    }
   ],
   "source": [
    "print(it_companies.clear())  # 20. Détruire la liste des entreprises informatiques"
   ]
  },
  {
   "cell_type": "markdown",
   "metadata": {},
   "source": [
    "Exercice 06:\n",
    "Joindre les listes suivantes :\n",
    "\n",
    "     front_end = ['HTML', 'CSS', 'JS', 'React', 'Redux']  \n",
    "     back_end = ['Node','Express', 'MongoDB']"
   ]
  },
  {
   "cell_type": "code",
   "execution_count": 10,
   "metadata": {},
   "outputs": [
    {
     "name": "stdout",
     "output_type": "stream",
     "text": [
      "joindre les deux listes nous donne = ['HTML', 'CSS', 'JS', 'React', 'Redux', 'Node', 'Express', 'MongoDB']\n"
     ]
    }
   ],
   "source": [
    "front_end = ['HTML', 'CSS', 'JS', 'React', 'Redux']  \n",
    "back_end = ['Node','Express', 'MongoDB']\n",
    "print(\"joindre les deux listes nous donne =\", front_end+back_end)"
   ]
  },
  {
   "cell_type": "markdown",
   "metadata": {
    "id": "kASFM1bh8p4X"
   },
   "source": [
    "#### **Exercice 07:** \n",
    "Voici une liste de 10 âges d'étudiants :\n",
    "\n",
    "         ages = [19, 22, 19, 24, 20, 25, 26, 24, 25, 24]\n",
    "         \n",
    " \n",
    "    1. Trier la liste et trouver l'âge minimum et maximum.\n",
    "    2. Ajoutez à nouveau l'âge minimum et l'âge maximum à la liste.\n",
    "    3. Trouvez l'âge médian (un élément du milieu ou deux éléments du milieu divisés par deux).\n",
    "    4. Trouvez l'âge moyen (somme de tous les éléments divisée par leur nombre).\n",
    "    4. Trouver l'intervalle des âges (max moins min)\n",
    "    5. Comparez les valeurs de (min - moyenne) et (max - moyenne) en utilisant la méthode abs().\n",
    "        "
   ]
  },
  {
   "cell_type": "code",
   "execution_count": 119,
   "metadata": {
    "id": "TWTGGaOO8p4Z"
   },
   "outputs": [
    {
     "name": "stdout",
     "output_type": "stream",
     "text": [
      "Liste initiale  [19, 22, 19, 24, 20, 25, 26, 24, 25, 24]\n",
      "Liste triee  [19, 19, 20, 22, 24, 24, 24, 25, 25, 26]\n"
     ]
    }
   ],
   "source": [
    "ages = [19, 22, 19, 24, 20, 25, 26, 24, 25, 24]\n",
    "print(\"Liste initiale \", ages)\n",
    "ages.sort()                     \n",
    "print(\"Liste triee \",ages)"
   ]
  },
  {
   "cell_type": "code",
   "execution_count": null,
   "metadata": {},
   "outputs": [],
   "source": [
    "minimum = min(ages)\n",
    "maximum = max(ages)\n",
    "print (\"L'âge minimum est\", minimum )\n",
    "print (\"L'âge maximum est\", maximum )"
   ]
  },
  {
   "cell_type": "code",
   "execution_count": null,
   "metadata": {},
   "outputs": [],
   "source": [
    "ages.append(minimum)\n",
    "print(ages)"
   ]
  },
  {
   "cell_type": "code",
   "execution_count": null,
   "metadata": {},
   "outputs": [],
   "source": [
    "ages.append(maximum)\n",
    "print(ages)"
   ]
  },
  {
   "cell_type": "code",
   "execution_count": 82,
   "metadata": {},
   "outputs": [
    {
     "name": "stdout",
     "output_type": "stream",
     "text": [
      "âge médian  24.0\n"
     ]
    }
   ],
   "source": [
    "mediane = (24+24)/2\n",
    "print('âge médian ', mediane)"
   ]
  },
  {
   "cell_type": "code",
   "execution_count": 71,
   "metadata": {},
   "outputs": [
    {
     "name": "stdout",
     "output_type": "stream",
     "text": [
      "âge moyen  22.75\n"
     ]
    }
   ],
   "source": [
    "moyenne = (19+19+20+22+24+24+24+25+25+26+19+26)/12\n",
    "print('âge moyen ', moyenne)"
   ]
  },
  {
   "cell_type": "code",
   "execution_count": null,
   "metadata": {},
   "outputs": [],
   "source": [
    "intervalle = range(max(ages)-min(ages))\n",
    "print(intervalle)"
   ]
  },
  {
   "cell_type": "code",
   "execution_count": null,
   "metadata": {},
   "outputs": [],
   "source": [
    "comparaison = abs((minimum-moyenne)-(maximum-moyenne))"
   ]
  },
  {
   "cell_type": "markdown",
   "metadata": {
    "id": "AfauolZA8p4V"
   },
   "source": [
    "#### **Exercice 06:** \n",
    "**Joindre les listes suivantes :**\n",
    "     \n",
    "         front_end = ['HTML', 'CSS', 'JS', 'React', 'Redux']  \n",
    "         back_end = ['Node','Express', 'MongoDB']"
   ]
  },
  {
   "cell_type": "code",
   "execution_count": 2,
   "metadata": {
    "id": "TEtbXitA8p4h"
   },
   "outputs": [
    {
     "name": "stdout",
     "output_type": "stream",
     "text": [
      "Les deux listes jointes sont : ['HTML', 'CSS', 'JS', 'React', 'Redux', 'Node', 'Express', 'MongoDB']\n"
     ]
    }
   ],
   "source": [
    "front_end = ['HTML', 'CSS', 'JS', 'React', 'Redux']  \n",
    "back_end = ['Node','Express', 'MongoDB']\n",
    "joindre= front_end+back_end\n",
    "print('Les deux listes jointes sont :', joindre)"
   ]
  },
  {
   "cell_type": "markdown",
   "metadata": {
    "id": "bF7FI4iT8p4i"
   },
   "source": [
    "###  <center> <b> <span style=\"color:blue;\"> Dictionnaires </span> </b></center>"
   ]
  },
  {
   "cell_type": "markdown",
   "metadata": {
    "id": "VzcSJMf18p4j"
   },
   "source": [
    "\n",
    "1. Créer un dictionnaire vide appelé `dog`\n",
    "2. Ajoute le nom, la couleur, la race, les pattes, l'âge au dictionnaire dog.\n",
    "3. Créez un dictionnaire student et ajoutez le prénom, le nom, le sexe, l'âge, l'état civil, les compétences, le pays, la ville et l'adresse comme clés pour le dictionnaire.\n",
    "4. Obtenez la longueur du dictionnaire student\n",
    "5. Récupérez la valeur des compétences et vérifiez le type de données, il doit s'agir d'une liste.\n",
    "6. Modifiez les valeurs des compétences en ajoutant une ou deux compétences.\n",
    "7. Obtenez les clés du dictionnaire sous forme de liste\n",
    "8. Obtenir les valeurs du dictionnaire sous forme de liste\n",
    "9. Transformer le dictionnaire en une liste de tuples en utilisant la méthode items()\n",
    "10. Supprimer un des éléments du dictionnaire\n",
    "11. Supprimer un des dictionnaires\n"
   ]
  },
  {
   "cell_type": "code",
   "execution_count": 110,
   "metadata": {
    "id": "LJ6DfBUh8p4k"
   },
   "outputs": [],
   "source": [
    "dog={}\n"
   ]
  },
  {
   "cell_type": "code",
   "execution_count": 111,
   "metadata": {
    "id": "rNdDqviE8p4l"
   },
   "outputs": [
    {
     "name": "stdout",
     "output_type": "stream",
     "text": [
      "{'Nom': 'Kiki', 'Couleur': 'Jaune', 'race': 'Berger', 'Pattes': 'ras', 'âge': 20}\n"
     ]
    }
   ],
   "source": [
    "dog['Nom']='Kiki'\n",
    "dog['Couleur']='Jaune'\n",
    "dog['race']='Berger'\n",
    "dog['Pattes']='ras'\n",
    "dog['âge']=20\n",
    "print(dog)"
   ]
  },
  {
   "cell_type": "code",
   "execution_count": 112,
   "metadata": {},
   "outputs": [
    {
     "name": "stdout",
     "output_type": "stream",
     "text": [
      "9\n"
     ]
    }
   ],
   "source": [
    "student = {'Prenoms':'Sandra Marion', 'Noms':'Kam Tsemo', 'sexe':'Feminin', 'âge':25, 'Etat civil':'Celibataire', 'competences':'Mathématique, modelisation, informatique', 'pays':'Cameroun', 'ville':'Yaounde' , 'Adresse':'rue 1689 oyom-abang Yaounde' }\n",
    "print(len(student))"
   ]
  },
  {
   "cell_type": "code",
   "execution_count": 113,
   "metadata": {},
   "outputs": [
    {
     "name": "stdout",
     "output_type": "stream",
     "text": [
      "<class 'list'>\n"
     ]
    }
   ],
   "source": [
    "y= { **student, 'competences' : ['Mathématique, modelisation, informatique']}\n",
    "student['competences']=[]\n",
    "print(type(student['competences']))"
   ]
  },
  {
   "cell_type": "code",
   "execution_count": 114,
   "metadata": {},
   "outputs": [
    {
     "name": "stdout",
     "output_type": "stream",
     "text": [
      "dict_keys(['Prenoms', 'Noms', 'sexe', 'âge', 'Etat civil', 'competences', 'pays', 'ville', 'Adresse'])\n",
      "dict_values(['Sandra Marion', 'Kam Tsemo', 'Feminin', 25, 'Celibataire', [], 'Cameroun', 'Yaounde', 'rue 1689 oyom-abang Yaounde'])\n"
     ]
    },
    {
     "data": {
      "text/plain": [
       "dict_items([('Prenoms', 'Sandra Marion'), ('Noms', 'Kam Tsemo'), ('sexe', 'Feminin'), ('âge', 25), ('Etat civil', 'Celibataire'), ('competences', []), ('pays', 'Cameroun'), ('ville', 'Yaounde'), ('Adresse', 'rue 1689 oyom-abang Yaounde')])"
      ]
     },
     "execution_count": 114,
     "metadata": {},
     "output_type": "execute_result"
    }
   ],
   "source": [
    "print(student.keys())\n",
    "print(student.values())\n",
    "student.items()"
   ]
  },
  {
   "cell_type": "code",
   "execution_count": 115,
   "metadata": {},
   "outputs": [],
   "source": [
    "del student['Etat civil']"
   ]
  },
  {
   "cell_type": "code",
   "execution_count": 116,
   "metadata": {},
   "outputs": [
    {
     "name": "stdout",
     "output_type": "stream",
     "text": [
      "{}\n"
     ]
    }
   ],
   "source": [
    "student.clear()\n",
    "print(student)"
   ]
  },
  {
   "cell_type": "markdown",
   "metadata": {},
   "source": [
    "<center> <b> <span style=\"color:orange;\"> 🎉 FÉLICITATIONS ! / CONGRATULATIONS !🎉 </span> </b></center>"
   ]
  },
  {
   "cell_type": "markdown",
   "metadata": {},
   "source": [
    "# ----------THE END----------"
   ]
  }
 ],
 "metadata": {
  "colab": {
   "name": "Exercices_02_Objets-itérables-ou-conteneurs.ipynb",
   "provenance": []
  },
  "kernelspec": {
   "display_name": "Python 3",
   "language": "python",
   "name": "python3"
  },
  "language_info": {
   "codemirror_mode": {
    "name": "ipython",
    "version": 3
   },
   "file_extension": ".py",
   "mimetype": "text/x-python",
   "name": "python",
   "nbconvert_exporter": "python",
   "pygments_lexer": "ipython3",
   "version": "3.7.6"
  }
 },
 "nbformat": 4,
 "nbformat_minor": 1
}
