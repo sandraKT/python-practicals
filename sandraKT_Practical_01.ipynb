{
 "cells": [
  {
   "cell_type": "markdown",
   "metadata": {},
   "source": [
    "<center>\n",
    "    <a href=\"https://www.aims-senegal.org/\" ><img src=\"aimssn_logo.png\" style=\"float:center; max-width: 600px; display: inline\" alt=\"IMSP\"/> </a>\n",
    "    </center>\n",
    "    \n",
    "#    <center> <b> <span style=\"color:orange;\" >  `Python for Scientific Computing and Software Engineering ` </span> </b></center>\n",
    "\n",
    "\n",
    "## <center> <b> <span style=\"color:orange;\"> An Initiation to Programming using Python (Init2Py) </span> </b></center>\n",
    "\n",
    "### <center> <b> <span style=\"color:blue;\"> Practicals: Variables, Types & Operations </span> </b></center>"
   ]
  },
  {
   "cell_type": "markdown",
   "metadata": {},
   "source": [
    "**Exercise 00:**  \n",
    "\n",
    "> 1. Declare a variable `firstname` and assign it a value.\n",
    "> 2. Declare a `lastname` variable and assign a value to it.\n",
    "> 3. Declare a `full_name` variable and assign it a value.\n",
    "> 4. Declare a `country` variable and assign it a value.\n",
    "> 5. Declare a variable `city` and assign it a value.\n",
    "> 6. Declare a `age` variable and assign it a value.\n",
    "> 7. Declare a variable `year` and assign it a value.\n",
    "> 8. Declare a variable `is_marrie` and assign it a value.\n",
    "> 9. Declare a variable `is_true` and assign it a value.\n",
    "\n",
    "> For each of the above variable, display the value it contains using the `print()` function.\n",
    "\n",
    "\n"
   ]
  },
  {
   "cell_type": "code",
   "execution_count": 1,
   "metadata": {},
   "outputs": [
    {
     "name": "stdout",
     "output_type": "stream",
     "text": [
      "Kam Tsemo Sandra Marion Kam Tsemo Sandra Marion Cameroun Yaounde 25 2021 False True\n"
     ]
    }
   ],
   "source": [
    "firstname=\"Kam Tsemo\"\n",
    "lastname='Sandra Marion'\n",
    "full_name='Kam Tsemo Sandra Marion'\n",
    "country=\"Cameroun\"\n",
    "city= \"Yaounde\"\n",
    "age=25\n",
    "year=2021\n",
    "is_marrie=False\n",
    "is_true=True\n",
    "print(firstname,lastname,full_name,country,city,age,year,is_marrie,is_true)"
   ]
  },
  {
   "cell_type": "markdown",
   "metadata": {},
   "source": [
    "**Exercise 01:** \n",
    "> Check the data type of all your variables using the built-in function `type()`.**\n"
   ]
  },
  {
   "cell_type": "code",
   "execution_count": 3,
   "metadata": {},
   "outputs": [
    {
     "data": {
      "text/plain": [
       "bool"
      ]
     },
     "execution_count": 3,
     "metadata": {},
     "output_type": "execute_result"
    }
   ],
   "source": [
    "type(firstname)\n",
    "type(lastname)\n",
    "type(full_name)\n",
    "type(country)\n",
    "type(city)\n",
    "type(age)\n",
    "type(year)\n",
    "type(is_marrie)\n",
    "type(is_true)"
   ]
  },
  {
   "cell_type": "markdown",
   "metadata": {},
   "source": [
    "**Exercise 02:** \n",
    "> Calculate the value of $y$ ($y = x^2 + 6x + 9$). Try using different values of $x$ and determine at what value of $x$ will $y$ be equal to 0.**"
   ]
  },
  {
   "cell_type": "code",
   "execution_count": 17,
   "metadata": {},
   "outputs": [
    {
     "name": "stdout",
     "output_type": "stream",
     "text": [
      "x: -4 y : 1\n",
      "x: -3 y : 0\n",
      "x: -2 y : 1\n",
      "x: -1 y : 4\n",
      "x: 0 y : 9\n",
      "x: 1 y : 16\n",
      "x: 2 y : 25\n",
      "x: 3 y : 36\n"
     ]
    }
   ],
   "source": [
    "for x in range(-4,4):\n",
    "    y=x**2+6*x+9\n",
    "    print('x:',x,'y:',y)"
   ]
  },
  {
   "cell_type": "markdown",
   "metadata": {},
   "source": [
    "**Exercise 03:** \n",
    ">    \n",
    "     1. Declare your age as an integer variable\n",
    "     2. Declare your height as a float variable\n",
    "     3. Declare a variable that stores the base and height of a triangle. Calculate the area of this triangle (area = 0.5 x b x h)."
   ]
  },
  {
   "cell_type": "markdown",
   "metadata": {},
   "source": [
    "## *Tip: receiving input from the user *\n",
    "**To receive an input from the user, we use `input()`.**.\n",
    "\n",
    "**Example**\n",
    "Receive two numbers as input from the user and calculate their power:\n",
    "```python\n",
    "base = input(\"Enter a base: \")\n",
    "exponent = input(\"Enter an exponent: \")\n",
    "result = float(base) ** float(exponent)\n",
    "print(f \"{base} to the power of {exponent} = {result}\")\n",
    "```"
   ]
  },
  {
   "cell_type": "code",
   "execution_count": 21,
   "metadata": {},
   "outputs": [
    {
     "name": "stdout",
     "output_type": "stream",
     "text": [
      "Entrer la base: 25\n",
      "Entrer la hauteur: 4.3\n",
      "L aire du triangle est:  53.75\n"
     ]
    }
   ],
   "source": [
    "base = input(\"Entrer la base: \")\n",
    "hauteur= input(\"Entrer la hauteur: \")\n",
    "aire= 0.5*int(base)*float(hauteur)\n",
    "print(\"L aire du triangle est: \", aire)"
   ]
  },
  {
   "cell_type": "markdown",
   "metadata": {},
   "source": [
    "**Exercise 04:** \n",
    "> **Write a small code that asks the user to enter the side $a$, the side $b$ and the side $c$ of a triangle. Calculate the perimeter of the triangle (perimeter = a + b + c).**"
   ]
  },
  {
   "cell_type": "code",
   "execution_count": 20,
   "metadata": {},
   "outputs": [
    {
     "name": "stdout",
     "output_type": "stream",
     "text": [
      "Entrer le cote a: 1.5\n",
      "Entrer le cote b: 5\n",
      "Entrer le cote c: 0.6\n",
      "le perimetre du triangle est:  4.5\n"
     ]
    }
   ],
   "source": [
    "a = input(\"Entrer le cote a: \")\n",
    "b = input(\"Entrer le cote b: \")\n",
    "c = input(\"Entrer le cote c: \")\n",
    "perimetre= float(a)*float(b)*float(c)\n",
    "print(\"le perimetre du triangle est: \", perimetre)"
   ]
  },
  {
   "cell_type": "markdown",
   "metadata": {},
   "source": [
    "**Exercise 05:** \n",
    "> **Obtain the length and width of a rectangle using the prompt. Calculate its `area`and its `perimeter`.**"
   ]
  },
  {
   "cell_type": "code",
   "execution_count": 24,
   "metadata": {},
   "outputs": [
    {
     "name": "stdout",
     "output_type": "stream",
     "text": [
      "Entrer la longueur: 12\n",
      "Entrer la largeur: 5\n",
      "l aire de ce rectangle est:  60.0 et son perimetre :  34.0\n"
     ]
    }
   ],
   "source": [
    "L = input(\"Entrer la longueur: \")\n",
    "l = input(\"Entrer la largeur: \")\n",
    "aire = float(L)*float(l)\n",
    "perimetre= (float(L)+float(l))*2\n",
    "print(\"l aire de ce rectangle est: \", aire, \"et son perimetre : \", perimetre)"
   ]
  },
  {
   "cell_type": "markdown",
   "metadata": {},
   "source": [
    "**Exercice 06:** \n",
    "> **Obtenez le rayon d'un cercle en utilisant l'invite. Calculez l'aire (aire = pi x r x r) et la circonférence (c = 2 x pi x r) où pi = 3,14.**"
   ]
  },
  {
   "cell_type": "code",
   "execution_count": 25,
   "metadata": {},
   "outputs": [
    {
     "name": "stdout",
     "output_type": "stream",
     "text": [
      "Entrer le rayon du cercle: 5\n",
      "l aire de ce cercle:  78.5 et sa circonference :  31.400000000000002\n"
     ]
    }
   ],
   "source": [
    "r = input(\"Entrer le rayon du cercle: \")\n",
    "aire = 3.14*float(r)*float(r)\n",
    "circonference= 2*3.14*float(r)\n",
    "print(\"l aire de ce cercle: \", aire, \"et sa circonference : \", circonference)"
   ]
  },
  {
   "cell_type": "markdown",
   "metadata": {},
   "source": [
    "**Exercice 07:**\n",
    "> **Calculez la pente, l'ordonnée à l'origine en x et l'ordonnée à l'origine en $y$ de $y = 2x -2$.**"
   ]
  },
  {
   "cell_type": "code",
   "execution_count": 41,
   "metadata": {},
   "outputs": [
    {
     "name": "stdout",
     "output_type": "stream",
     "text": [
      "Entrer le premier abscisse: 5\n",
      "Entrer le second abscisse: 2\n",
      "la pente de cette droite est:  2.0 , son ordonnee a l origine en x est:  -2 et son ordonnee a l origine en y est:  1.0\n"
     ]
    }
   ],
   "source": [
    "x1 = float(input(\"Entrer le premier abscisse: \"))\n",
    "x2 = float(input(\"Entrer le second abscisse: \"))\n",
    "y1 = 2*x1-2\n",
    "y2 = 2*x2-2\n",
    "pente = ((y2-y1)/(x2-x1))\n",
    "x0=0\n",
    "ordonnee_en_x= 2*x0-2\n",
    "y0=0\n",
    "ordonnee_en_y= 0.5*y0+1\n",
    "print(\"la pente de cette droite est: \",pente,\", son ordonnee a l origine en x est: \",ordonnee_en_x,\"et son ordonnee a l origine en y est: \",ordonnee_en_y)"
   ]
  },
  {
   "cell_type": "markdown",
   "metadata": {},
   "source": [
    "**Exercice 08:** \n",
    "> **Rédigez un script qui demande à l'utilisateur d'entrer les heures et le taux horaire. Calculez la rémunération de la personne ?**"
   ]
  },
  {
   "cell_type": "code",
   "execution_count": 48,
   "metadata": {},
   "outputs": [
    {
     "name": "stdout",
     "output_type": "stream",
     "text": [
      "Donner votre taux horaire: 5\n",
      "Donner le nombre d heures travaillees de travail: 6\n",
      " Votre remuneration / salaire est de : 30.0\n"
     ]
    }
   ],
   "source": [
    "t = float(input(\"Donner votre taux horaire: \"))\n",
    "h = float(input(\"Donner le nombre d heures travaillees de travail: \"))\n",
    "s = t*h\n",
    "print(\" Votre remuneration / salaire est de :\", s)"
   ]
  },
  {
   "cell_type": "markdown",
   "metadata": {},
   "source": [
    "**Exercice 09:** \n",
    "> **Écrivez un script qui demande à l'utilisateur d'entrer le nombre d'années. Calculez le nombre de secondes qu'une personne peut vivre. Supposons qu'une personne puisse vivre cent ans.**"
   ]
  },
  {
   "cell_type": "code",
   "execution_count": 43,
   "metadata": {},
   "outputs": [
    {
     "name": "stdout",
     "output_type": "stream",
     "text": [
      "Entrer le nombre d annee: 100\n",
      " le nombre de secondes que vous pouvez vivre est : 0\n"
     ]
    }
   ],
   "source": [
    "x=int(input(\"Entrer le nombre d annee: \"))\n",
    "ns=(100-x)*365*24*3600\n",
    "print(\" le nombre de secondes que vous pouvez vivre est :\", ns)"
   ]
  },
  {
   "cell_type": "markdown",
   "metadata": {},
   "source": [
    "**Exercice 10:** \n",
    "> **Écrivez un script Python qui affiche le tableau suivant**\n",
    "\n",
    "    1 1 1 1 1\n",
    "    \n",
    "    2 1 2 4 8\n",
    "    \n",
    "    3 1 3 9 27\n",
    "    \n",
    "    4 1 4 16 64\n",
    "    \n",
    "    5 1 5 25 125"
   ]
  },
  {
   "cell_type": "code",
   "execution_count": 47,
   "metadata": {},
   "outputs": [
    {
     "name": "stdout",
     "output_type": "stream",
     "text": [
      "1 1 1 1 1\n",
      "2 1 2 4 8\n",
      "3 1 3 9 27\n",
      "4 1 4 16 64\n",
      "5 1 5 25 125\n"
     ]
    }
   ],
   "source": [
    "a=1\n",
    "print(a,a,a,a,a)\n",
    "print(a+1,a,a+1,(a+1)**2,(a+1)**3)\n",
    "print(a+2,a,a+2,(a+2)**2,(a+2)**3)\n",
    "print(a+3,a,a+3,(a+3)**2,(a+3)**3)\n",
    "print(a+4,a,a+4,(a+4)**2,(a+4)**3)\n"
   ]
  },
  {
   "cell_type": "markdown",
   "metadata": {},
   "source": [
    "**Exercise 11:** \n",
    ">**Assign the variables `time` and `distance` with the values $6.892$ and $19.7$. Calculate and display the value of the speed. Improve the display by imposing a digit after the decimal point.**"
   ]
  },
  {
   "cell_type": "code",
   "execution_count": 65,
   "metadata": {},
   "outputs": [
    {
     "name": "stdout",
     "output_type": "stream",
     "text": [
      "la valeur de la vitesse est de : 2.8583865351131745 et la valeur amelioree de cette vitesse est : 2.9\n"
     ]
    }
   ],
   "source": [
    "temps=6.892\n",
    "distance=19.7\n",
    "vitesse=distance/temps\n",
    "vitesseAmelioree=round(vitesse,1)\n",
    "print(\"la valeur de la vitesse est de :\", vitesse,\"et la valeur amelioree de cette vitesse est :\",vitesseAmelioree)\n",
    "\n"
   ]
  },
  {
   "cell_type": "markdown",
   "metadata": {},
   "source": [
    "**Exercice 12:** \n",
    "> **Écrire un programme qui, à partir de la saisie d’un rayon et d’une hauteur, calcule levolume d’un cône droit.**"
   ]
  },
  {
   "cell_type": "code",
   "execution_count": 66,
   "metadata": {},
   "outputs": [
    {
     "name": "stdout",
     "output_type": "stream",
     "text": [
      "Entrer la valeur du rayon de ce cone: 45\n",
      "Entrer la valeur de la hauteur de ce cone: 32\n",
      "Le volume de ce cone droit est de : 67824.0\n"
     ]
    }
   ],
   "source": [
    "r = float(input(\"Entrer la valeur du rayon de ce cone: \"))\n",
    "h = float(input(\"Entrer la valeur de la hauteur de ce cone: \"))\n",
    "v = (1/3)*3.14*r*r*h\n",
    "print (\"Le volume de ce cone droit est de :\",v)"
   ]
  },
  {
   "cell_type": "markdown",
   "metadata": {},
   "source": [
    "**Exercise 13:** \n",
    "> **The user gives a positive integer and the program announces how many times in a row this integer is divisible by 2.**"
   ]
  },
  {
   "cell_type": "code",
   "execution_count": 74,
   "metadata": {},
   "outputs": [
    {
     "name": "stdout",
     "output_type": "stream",
     "text": [
      "Entrer un nombre entier positif:4\n",
      "ce nombre est: 2 fois divisible par 2.\n"
     ]
    }
   ],
   "source": [
    "a= int(input(\"Entrer un nombre entier positif:\"))\n",
    "p=0\n",
    "while a%2==0:\n",
    "    a/=2\n",
    "    p+=1\n",
    "print(\"ce nombre est:\",p,\"fois divisible par 2.\")"
   ]
  },
  {
   "cell_type": "markdown",
   "metadata": {},
   "source": [
    "**Exercise 14:** \n",
    ">**The user gives an integer between 2 and 12, the program gives the number of ways to do this by rolling two dice."
   ]
  },
  {
   "cell_type": "code",
   "execution_count": 78,
   "metadata": {},
   "outputs": [
    {
     "name": "stdout",
     "output_type": "stream",
     "text": [
      "Entrer un nombre entier entre 2 et 12 : 5\n",
      "le nombre de facon de faire est: 4\n"
     ]
    }
   ],
   "source": [
    "n= int(input(\"Entrer un nombre entier entre 2 et 12 : \"))\n",
    "k=0\n",
    "for i in range (1,7):\n",
    "    for j in range (1,7):\n",
    "        if i+j==n :\n",
    "            k+=1\n",
    "print(\"le nombre de facon de faire est:\",k)"
   ]
  },
  {
   "cell_type": "markdown",
   "metadata": {},
   "source": [
    "**Exercice 15:** \n",
    "> **Utilisez la fonction d'entrée intégrée `input()` pour obtenir le `_prénom_`, le `_nom_`, le `_pays_d_origine` et l'`_age_` d'un utilisateur et stockez la valeur dans les noms des variables correspondantes.**"
   ]
  },
  {
   "cell_type": "code",
   "execution_count": 76,
   "metadata": {},
   "outputs": [
    {
     "name": "stdout",
     "output_type": "stream",
     "text": [
      "Entrer le prenom:SANDRA MARION\n",
      "Entrer le nom:KAM TSEMO\n",
      "Entrer le pays d'origine:CAMEROUN\n",
      "Entrer l'age:25\n"
     ]
    }
   ],
   "source": [
    "_prenom=str(input(\"Entrer le prenom:\"))\n",
    "_nom=str(input(\"Entrer le nom:\"))\n",
    "_pays_d_origine=str(input(\"Entrer le pays d'origine:\"))\n",
    "age=int(input(\"Entrer l'age:\"))\n"
   ]
  },
  {
   "cell_type": "markdown",
   "metadata": {},
   "source": [
    "**Exercice 16:** \n",
    "\n",
    "**Déclarer $5$ comme `num_one` et $4$ comme `num_two`**\n",
    "\n",
    "   1. Additionner `num_one` et `num_two` et affecter la valeur à une variable `totale`.\n",
    "   2. Soustraire `num_two` de `num_one` et affecter la valeur à une variable `diff`.\n",
    "   3. Multipliez le `num_one` et le `num_two` et attribuez la valeur à une variable `produit`.\n",
    "   4. Divisez le `num_one` par le `num_two` et attribuez la valeur à une variable `division`.\n",
    "   5. Calculez `num_one` à la puissance de `num_two` et attribuez la valeur à une variable `exp`."
   ]
  },
  {
   "cell_type": "code",
   "execution_count": 77,
   "metadata": {},
   "outputs": [
    {
     "name": "stdout",
     "output_type": "stream",
     "text": [
      "1. L'addition nous donne : 9\n",
      "2. La soustration nous donne : -1\n",
      "3. La multiplication nous donne : 20\n",
      "4. La dividion nous donne : 1.25\n",
      "5. La puissance nous donne : 625\n"
     ]
    }
   ],
   "source": [
    "a=5\n",
    "b=4\n",
    "totale=(a+b)\n",
    "diff=(b-a)\n",
    "produit=(a*b)\n",
    "division=(a/b)\n",
    "exp=(a**b)\n",
    "print(\"1. L'addition nous donne :\", totale)\n",
    "print(\"2. La soustration nous donne :\", diff)\n",
    "print(\"3. La multiplication nous donne :\", produit)\n",
    "print(\"4. La dividion nous donne :\", division)\n",
    "print(\"5. La puissance nous donne :\", exp)\n"
   ]
  },
  {
   "cell_type": "markdown",
   "metadata": {},
   "source": [
    "<center> <b> <span style=\"color:orange;\"> 🎉 FÉLICITATIONS! / CONGRATULATIONS! 🎉 </span> </b></center>"
   ]
  }
 ],
 "metadata": {
  "kernelspec": {
   "display_name": "Python 3",
   "language": "python",
   "name": "python3"
  },
  "language_info": {
   "codemirror_mode": {
    "name": "ipython",
    "version": 3
   },
   "file_extension": ".py",
   "mimetype": "text/x-python",
   "name": "python",
   "nbconvert_exporter": "python",
   "pygments_lexer": "ipython3",
   "version": "3.7.3"
  }
 },
 "nbformat": 4,
 "nbformat_minor": 5
}
